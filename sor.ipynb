{
 "cells": [
  {
   "cell_type": "code",
   "execution_count": 1,
   "metadata": {},
   "outputs": [],
   "source": [
    "import numpy as np\n",
    "np.set_printoptions(precision=4)\n",
    "import pandas as pd\n",
    "from sklearn import linear_model"
   ]
  },
  {
   "cell_type": "code",
   "execution_count": 2,
   "metadata": {},
   "outputs": [],
   "source": [
    "df=pd.read_csv('Prostate.csv')\n",
    "data=np.array(df)\n",
    "x,y=data[:,0:8],data[:,8:9]\n",
    "n=x.shape[0]\n",
    "b=np.ones(n).reshape(n,-1)\n",
    "x2=np.hstack((b,x))"
   ]
  },
  {
   "cell_type": "code",
   "execution_count": 12,
   "metadata": {},
   "outputs": [],
   "source": [
    "#Regression by Successive Orthogonalization\n",
    "def sor(X,y):\n",
    "    n,p=X.shape[0],X.shape[1]\n",
    "    Q=np.zeros_like(X)\n",
    "    Q[:,0]=np.ones(n)\n",
    "    l=0\n",
    "    beta_list=[]\n",
    "    for x in X.T:\n",
    "        v=x.copy()\n",
    "        for i in range(l):\n",
    "            l2_sq=Q[:,i].T@Q[:,i]\n",
    "            v-=Q[:,i].T@x/l2_sq*Q[:,i]\n",
    "        Q[:,l]=v\n",
    "        beta=v.T@y/(v.T@v)\n",
    "        beta_list.append(beta)\n",
    "        l+=1\n",
    "    return Q,beta_list"
   ]
  },
  {
   "cell_type": "code",
   "execution_count": 10,
   "metadata": {},
   "outputs": [
    {
     "name": "stdout",
     "output_type": "stream",
     "text": [
      "[[ 0.6694  0.587   0.4545 -0.0196  0.1071  0.7662 -0.1055  0.0451  0.0045]] \n",
      " [[ 0.6694  0.587   0.4545 -0.0196  0.1071  0.7662 -0.1055  0.0451  0.0045]]\n"
     ]
    }
   ],
   "source": [
    "#use fomula\n",
    "def ols(x,y):\n",
    "    beta=np.linalg.inv(x.T@x)@x.T@y\n",
    "    return beta\n",
    "#use package\n",
    "lr=linear_model.LinearRegression(fit_intercept=False)\n",
    "lr.fit(x2,y)\n",
    "print(ols(x2,y).T,'\\n',lr.coef_)"
   ]
  },
  {
   "cell_type": "code",
   "execution_count": 13,
   "metadata": {},
   "outputs": [
    {
     "data": {
      "text/plain": [
       "[array([2.4784]),\n",
       " array([0.7193]),\n",
       " array([0.5109]),\n",
       " array([-0.0095]),\n",
       " array([0.084]),\n",
       " array([0.721]),\n",
       " array([-0.0412]),\n",
       " array([0.1459]),\n",
       " array([0.0045])]"
      ]
     },
     "execution_count": 13,
     "metadata": {},
     "output_type": "execute_result"
    }
   ],
   "source": [
    "#use 'sor'\n",
    "fit=sor(x2,y)\n",
    "Q,beta=fit[0],fit[1]\n",
    "#Q is an orthogonal matrix\n",
    "print(q.T@q)\n",
    "beta"
   ]
  }
 ],
 "metadata": {
  "kernelspec": {
   "display_name": "Python 3",
   "language": "python",
   "name": "python3"
  },
  "language_info": {
   "codemirror_mode": {
    "name": "ipython",
    "version": 3
   },
   "file_extension": ".py",
   "mimetype": "text/x-python",
   "name": "python",
   "nbconvert_exporter": "python",
   "pygments_lexer": "ipython3",
   "version": "3.6.4"
  }
 },
 "nbformat": 4,
 "nbformat_minor": 2
}
