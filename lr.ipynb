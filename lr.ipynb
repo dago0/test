{
 "cells": [
  {
   "cell_type": "code",
   "execution_count": 263,
   "metadata": {},
   "outputs": [],
   "source": [
    "import numpy as np\n",
    "np.set_printoptions(precision=4)\n",
    "import pandas as pd\n",
    "from sklearn import linear_model"
   ]
  },
  {
   "cell_type": "code",
   "execution_count": 322,
   "metadata": {},
   "outputs": [],
   "source": [
    "df=pd.read_csv('Prostate.csv')\n",
    "data=np.array(df)\n",
    "x,y=data[:,0:8],data[:,8:9]\n",
    "n=x.shape[0]\n",
    "b=np.ones(n).reshape(n,-1)\n",
    "x2=np.hstack((x,b))"
   ]
  },
  {
   "cell_type": "code",
   "execution_count": 345,
   "metadata": {},
   "outputs": [
    {
     "name": "stdout",
     "output_type": "stream",
     "text": [
      "[[ 0.587   0.4545 -0.0196  0.1071  0.7662 -0.1055  0.0451  0.0045  0.6694]] \n",
      " [[ 0.587   0.4545 -0.0196  0.1071  0.7662 -0.1055  0.0451  0.0045  0.6694]]\n"
     ]
    }
   ],
   "source": [
    "def ols(x,y):\n",
    "    beta=np.linalg.inv(x.T@x)@x.T@y\n",
    "    return beta\n",
    "ols(x2,y)\n",
    "lr=linear_model.LinearRegression(fit_intercept=False)\n",
    "lr.fit(x2,y)\n",
    "print(ols(x2,y).T,'\\n',lr.coef_)"
   ]
  },
  {
   "cell_type": "code",
   "execution_count": 347,
   "metadata": {},
   "outputs": [],
   "source": [
    "def smt(X):\n",
    "    n,p=X.shape[0],X.shape[1]\n",
    "    Q=np.zeros_like(X)\n",
    "    t=0\n",
    "    for x in X.T:\n",
    "        v=x.copy()\n",
    "        for i in range(t):\n",
    "            v-=Q[:,i].T@x*Q[:,i]\n",
    "        Q[:,t]=v/np.linalg.norm(v)\n",
    "        t+=1\n",
    "    return Q\n",
    "def sur(x,y):\n",
    "    n,p=x.shape[0],x.shape[1]\n",
    "    x0=np.ones(n).reshape(n,-1)\n",
    "    x=np.hstack((x0,x))\n",
    "    q=smt(x)\n",
    "    beta=[q[:,i].T@y/np.linalg.norm(q[:,i],2) for i in range(p+1)]\n",
    "    return beta"
   ]
  },
  {
   "cell_type": "code",
   "execution_count": 348,
   "metadata": {},
   "outputs": [
    {
     "data": {
      "text/plain": [
       "[array([24.4093]),\n",
       " array([8.3068]),\n",
       " array([2.4389]),\n",
       " array([-0.6481]),\n",
       " array([1.0339]),\n",
       " array([2.4396]),\n",
       " array([-0.3595]),\n",
       " array([0.8411]),\n",
       " array([0.7251])]"
      ]
     },
     "execution_count": 348,
     "metadata": {},
     "output_type": "execute_result"
    }
   ],
   "source": [
    "np.set_printoptions(precision=4)\n",
    "# smt(x)\n",
    "sur(x,y)\n"
   ]
  },
  {
   "cell_type": "code",
   "execution_count": 285,
   "metadata": {},
   "outputs": [],
   "source": [
    "import numpy as np  \n",
    "A = x  \n",
    "Q = np.zeros_like(A)  \n",
    "m = Q.shape[0]  \n",
    "n = Q.shape[1]  \n",
    "cnt = 0  \n",
    "for a in A.T:  \n",
    "    u = np.copy(a)  \n",
    "    for i in range(0, cnt):  \n",
    "        u -= np.dot(np.dot(Q[:, i].T, a), Q[:, i]) # 减去待求向量在以求向量上的投影  \n",
    "    e = u / np.linalg.norm(u)  # 归一化  \n",
    "    Q[:, cnt] = e  \n",
    "    cnt += 1  "
   ]
  }
 ],
 "metadata": {
  "kernelspec": {
   "display_name": "Python 3",
   "language": "python",
   "name": "python3"
  },
  "language_info": {
   "codemirror_mode": {
    "name": "ipython",
    "version": 3
   },
   "file_extension": ".py",
   "mimetype": "text/x-python",
   "name": "python",
   "nbconvert_exporter": "python",
   "pygments_lexer": "ipython3",
   "version": "3.6.4"
  }
 },
 "nbformat": 4,
 "nbformat_minor": 2
}
